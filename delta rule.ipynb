{
 "cells": [
  {
   "cell_type": "code",
   "execution_count": 1,
   "id": "24ab4ddd",
   "metadata": {},
   "outputs": [
    {
     "name": "stderr",
     "output_type": "stream",
     "text": [
      "C:\\Users\\2357638D\\.conda\\envs\\pytorch\\lib\\site-packages\\torchvision\\io\\image.py:11: UserWarning: Failed to load image Python extension: [WinError 126] The specified module could not be found\n",
      "  warn(f\"Failed to load image Python extension: {e}\")\n"
     ]
    }
   ],
   "source": [
    "import numpy as np\n",
    "from scipy.io import savemat,loadmat\n",
    "import torchvision.transforms as transforms\n",
    "from sklearn.preprocessing import StandardScaler,MinMaxScaler\n",
    "from sklearn.model_selection import train_test_split\n",
    "import matplotlib.pyplot as plt\n",
    "from sklearn.metrics import classification_report, accuracy_score, confusion_matrix\n",
    "import seaborn as sns\n"
   ]
  },
  {
   "cell_type": "code",
   "execution_count": 52,
   "id": "f1b26059",
   "metadata": {},
   "outputs": [],
   "source": [
    "path = 's1_db2_response960_exB.mat'\n",
    "signal = loadmat(path)\n",
    "spike = signal['spike']\n",
    "label = signal['label']"
   ]
  },
  {
   "cell_type": "code",
   "execution_count": 35,
   "id": "bcdfccfc",
   "metadata": {},
   "outputs": [],
   "source": [
    "sub = 1\n",
    "in_fea = 48\n",
    "path = 's'+str(sub)+'_db2_exB_SNR10.mat'\n",
    "signal = loadmat(path)\n",
    "spike1 = signal['s_spk']\n",
    "label1 = signal['s_label']\n",
    "path = 's'+str(sub)+'_db2_exC_SNR10.mat'\n",
    "signal = loadmat(path)\n",
    "spike2 = signal['s_spk']\n",
    "label2 = signal['s_label']\n",
    "path = 's'+str(sub)+'_db2_exD_SNR10.mat'\n",
    "signal = loadmat(path)\n",
    "spike3= signal['s_spk']\n",
    "label3 = signal['s_label']\n",
    "path = 's'+str(sub)+'_db2_rest_SNR10.mat'\n",
    "signal = loadmat(path)\n",
    "spike4= signal['s_rest']\n",
    "label4 = signal['s_rest_label']\n",
    "spike = np.concatenate((spike4,spike1,spike2,spike3),axis=0)\n",
    "label = np.concatenate((label4,label1,label2,label3),axis=0)"
   ]
  },
  {
   "cell_type": "code",
   "execution_count": 2,
   "id": "034c6bfd",
   "metadata": {},
   "outputs": [],
   "source": [
    "sub = 1\n",
    "in_fea = 480\n",
    "path = 's'+str(sub)+'_db2_response480_exB_SNR30.mat'\n",
    "signal = loadmat(path)\n",
    "spike1 = signal['spike']\n",
    "label1 = signal['label']\n",
    "path = 's'+str(sub)+'_db2_response480_exC_SNR30.mat'\n",
    "signal = loadmat(path)\n",
    "spike2 = signal['spike']\n",
    "label2 = signal['label']\n",
    "path = 's'+str(sub)+'_db2_response480_exD_SNR30.mat'\n",
    "signal = loadmat(path)\n",
    "spike3 = signal['spike']\n",
    "label3 = signal['label']\n",
    "path = 's'+str(sub)+'_db2_response480_rest_SNR30.mat'\n",
    "signal = loadmat(path)\n",
    "spike4 = signal['spike']\n",
    "label4 = signal['label']\n",
    "spike = np.concatenate((spike4,spike1,spike2,spike3),axis=0)\n",
    "label = np.concatenate((label4,label1,label2,label3),axis=0)"
   ]
  },
  {
   "cell_type": "code",
   "execution_count": 3,
   "id": "5a417d6c",
   "metadata": {},
   "outputs": [],
   "source": [
    "sub = 33\n",
    "in_fea = 144\n",
    "path = 's'+str(sub)+'_db2_response'+str(in_fea)+'_exD.mat'\n",
    "signal = loadmat(path)\n",
    "spike = signal['spike']\n",
    "label = signal['label']"
   ]
  },
  {
   "cell_type": "code",
   "execution_count": 3,
   "id": "5bd454a8",
   "metadata": {},
   "outputs": [
    {
     "name": "stdout",
     "output_type": "stream",
     "text": [
      "(1200, 400, 480)\n"
     ]
    }
   ],
   "source": [
    "print(spike.shape)"
   ]
  },
  {
   "cell_type": "code",
   "execution_count": 4,
   "id": "ecde71bc",
   "metadata": {},
   "outputs": [],
   "source": [
    "num_sample =label.shape[0]\n",
    "num_classes = 50 \n",
    "new_label = np.zeros(num_sample)\n",
    "#for i in range(num_sample):\n",
    "#    new_label[i] = int(label[i,0])\n",
    "for i in range(num_sample):\n",
    "    new_label[i] = int(label[i,0]) "
   ]
  },
  {
   "cell_type": "code",
   "execution_count": 5,
   "id": "766b48b8",
   "metadata": {},
   "outputs": [
    {
     "name": "stdout",
     "output_type": "stream",
     "text": [
      "[ 0.  0.  0. ... 49. 49. 49.]\n"
     ]
    }
   ],
   "source": [
    "print(new_label)"
   ]
  },
  {
   "cell_type": "code",
   "execution_count": 6,
   "id": "4deb09c6",
   "metadata": {},
   "outputs": [],
   "source": [
    "'''apply a window to bin the signal'''\n",
    "'''along neuron axis'''\n",
    "def bin_signal(window_size, signal,step_size):\n",
    "    bins = []\n",
    "    \n",
    "    for i in range(0, len(signal) - window_size + 1,step_size):\n",
    "        window = signal[i:i + window_size,:]\n",
    "        val = np.sum(window, axis=0)\n",
    "        bins.append(val)\n",
    "        \n",
    "    bins = np.array(bins)\n",
    "\n",
    "    return bins\n",
    "\n",
    "window_size = 400\n",
    "step_size = 400\n",
    "fea_len = int(400/window_size)"
   ]
  },
  {
   "cell_type": "code",
   "execution_count": 10,
   "id": "bb1c5596",
   "metadata": {},
   "outputs": [
    {
     "ename": "IndexError",
     "evalue": "too many indices for array: array is 1-dimensional, but 2 were indexed",
     "output_type": "error",
     "traceback": [
      "\u001b[1;31m---------------------------------------------------------------------------\u001b[0m",
      "\u001b[1;31mIndexError\u001b[0m                                Traceback (most recent call last)",
      "\u001b[1;32m<ipython-input-10-4ece2eacfc51>\u001b[0m in \u001b[0;36m<module>\u001b[1;34m\u001b[0m\n\u001b[0;32m      2\u001b[0m \u001b[0mfeature_map\u001b[0m \u001b[1;33m=\u001b[0m \u001b[0mnp\u001b[0m\u001b[1;33m.\u001b[0m\u001b[0mzeros\u001b[0m\u001b[1;33m(\u001b[0m\u001b[1;33m(\u001b[0m\u001b[0mnum_sample\u001b[0m\u001b[1;33m,\u001b[0m\u001b[0mfea_len\u001b[0m\u001b[1;33m,\u001b[0m\u001b[1;36m48\u001b[0m\u001b[1;33m)\u001b[0m\u001b[1;33m)\u001b[0m\u001b[1;33m\u001b[0m\u001b[1;33m\u001b[0m\u001b[0m\n\u001b[0;32m      3\u001b[0m \u001b[1;32mfor\u001b[0m \u001b[0mi\u001b[0m \u001b[1;32min\u001b[0m \u001b[0mrange\u001b[0m\u001b[1;33m(\u001b[0m\u001b[0mnum_sample\u001b[0m\u001b[1;33m)\u001b[0m\u001b[1;33m:\u001b[0m\u001b[1;33m\u001b[0m\u001b[1;33m\u001b[0m\u001b[0m\n\u001b[1;32m----> 4\u001b[1;33m     \u001b[0mx\u001b[0m \u001b[1;33m=\u001b[0m \u001b[0mbin_signal\u001b[0m\u001b[1;33m(\u001b[0m\u001b[0mwindow_size\u001b[0m\u001b[1;33m,\u001b[0m\u001b[0mspike\u001b[0m\u001b[1;33m[\u001b[0m\u001b[0mi\u001b[0m\u001b[1;33m,\u001b[0m\u001b[1;36m0\u001b[0m\u001b[1;33m]\u001b[0m\u001b[1;33m,\u001b[0m\u001b[0mstep_size\u001b[0m\u001b[1;33m)\u001b[0m\u001b[1;33m\u001b[0m\u001b[1;33m\u001b[0m\u001b[0m\n\u001b[0m\u001b[0;32m      5\u001b[0m     \u001b[0mfeature_map\u001b[0m\u001b[1;33m[\u001b[0m\u001b[0mi\u001b[0m\u001b[1;33m,\u001b[0m\u001b[1;33m:\u001b[0m\u001b[1;33m,\u001b[0m\u001b[1;33m:\u001b[0m\u001b[1;33m]\u001b[0m \u001b[1;33m=\u001b[0m \u001b[0mx\u001b[0m\u001b[1;33m\u001b[0m\u001b[1;33m\u001b[0m\u001b[0m\n",
      "\u001b[1;32m<ipython-input-9-d67c62f10ecf>\u001b[0m in \u001b[0;36mbin_signal\u001b[1;34m(window_size, signal, step_size)\u001b[0m\n\u001b[0;32m      5\u001b[0m \u001b[1;33m\u001b[0m\u001b[0m\n\u001b[0;32m      6\u001b[0m     \u001b[1;32mfor\u001b[0m \u001b[0mi\u001b[0m \u001b[1;32min\u001b[0m \u001b[0mrange\u001b[0m\u001b[1;33m(\u001b[0m\u001b[1;36m0\u001b[0m\u001b[1;33m,\u001b[0m \u001b[0mlen\u001b[0m\u001b[1;33m(\u001b[0m\u001b[0msignal\u001b[0m\u001b[1;33m)\u001b[0m \u001b[1;33m-\u001b[0m \u001b[0mwindow_size\u001b[0m \u001b[1;33m+\u001b[0m \u001b[1;36m1\u001b[0m\u001b[1;33m,\u001b[0m\u001b[0mstep_size\u001b[0m\u001b[1;33m)\u001b[0m\u001b[1;33m:\u001b[0m\u001b[1;33m\u001b[0m\u001b[1;33m\u001b[0m\u001b[0m\n\u001b[1;32m----> 7\u001b[1;33m         \u001b[0mwindow\u001b[0m \u001b[1;33m=\u001b[0m \u001b[0msignal\u001b[0m\u001b[1;33m[\u001b[0m\u001b[0mi\u001b[0m\u001b[1;33m:\u001b[0m\u001b[0mi\u001b[0m \u001b[1;33m+\u001b[0m \u001b[0mwindow_size\u001b[0m\u001b[1;33m,\u001b[0m\u001b[1;33m:\u001b[0m\u001b[1;33m]\u001b[0m\u001b[1;33m\u001b[0m\u001b[1;33m\u001b[0m\u001b[0m\n\u001b[0m\u001b[0;32m      8\u001b[0m         \u001b[0mval\u001b[0m \u001b[1;33m=\u001b[0m \u001b[0mnp\u001b[0m\u001b[1;33m.\u001b[0m\u001b[0msum\u001b[0m\u001b[1;33m(\u001b[0m\u001b[0mwindow\u001b[0m\u001b[1;33m,\u001b[0m \u001b[0maxis\u001b[0m\u001b[1;33m=\u001b[0m\u001b[1;36m0\u001b[0m\u001b[1;33m)\u001b[0m\u001b[1;33m\u001b[0m\u001b[1;33m\u001b[0m\u001b[0m\n\u001b[0;32m      9\u001b[0m         \u001b[0mbins\u001b[0m\u001b[1;33m.\u001b[0m\u001b[0mappend\u001b[0m\u001b[1;33m(\u001b[0m\u001b[0mval\u001b[0m\u001b[1;33m)\u001b[0m\u001b[1;33m\u001b[0m\u001b[1;33m\u001b[0m\u001b[0m\n",
      "\u001b[1;31mIndexError\u001b[0m: too many indices for array: array is 1-dimensional, but 2 were indexed"
     ]
    }
   ],
   "source": [
    "'''input spikes (40 features)'''\n",
    "feature_map = np.zeros((num_sample,fea_len,48))\n",
    "for i in range(num_sample):\n",
    "    x = bin_signal(window_size,spike[i,0],step_size)\n",
    "    feature_map[i,:,:] = x"
   ]
  },
  {
   "cell_type": "code",
   "execution_count": 7,
   "id": "32403574",
   "metadata": {},
   "outputs": [],
   "source": [
    "'''output spikes (400 features)'''\n",
    "feature_map = np.zeros((num_sample,fea_len,in_fea))\n",
    "for i in range(num_sample):\n",
    "    x = bin_signal(window_size,spike[i,:,:],step_size)\n",
    "    feature_map[i,:,:] = x"
   ]
  },
  {
   "cell_type": "code",
   "execution_count": 8,
   "id": "12e7d89c",
   "metadata": {},
   "outputs": [
    {
     "name": "stdout",
     "output_type": "stream",
     "text": [
      "(1200, 480)\n",
      "(1200,)\n"
     ]
    }
   ],
   "source": [
    "#X = np.reshape(feature_map,(192,1,960))\n",
    "X = feature_map\n",
    "Y = new_label\n",
    "X = X.squeeze()\n",
    "Y = Y.squeeze()\n",
    "Y = Y.astype(int)\n",
    "print(X.shape)\n",
    "print(Y.shape)"
   ]
  },
  {
   "cell_type": "code",
   "execution_count": 9,
   "id": "affd7a80",
   "metadata": {},
   "outputs": [],
   "source": [
    "scaler = StandardScaler()\n",
    "X_scaled = scaler.fit_transform(X)"
   ]
  },
  {
   "cell_type": "code",
   "execution_count": 40,
   "id": "755ae99a",
   "metadata": {},
   "outputs": [],
   "source": [
    "X_train, X_test, y_train, y_test = train_test_split(X_scaled,Y, test_size=.2, random_state=10)\n",
    "y_train_one_hot = np.eye(num_classes)[y_train]"
   ]
  },
  {
   "cell_type": "code",
   "execution_count": 41,
   "id": "aa8c25c9",
   "metadata": {},
   "outputs": [],
   "source": [
    "num_features = in_fea  # Input features\n",
    "   # Number of output classes\n",
    "\n",
    "weights = np.random.randn(num_features, num_classes) * 0.01\n",
    "biases = np.zeros(num_classes)\n",
    "\n",
    "learning_rate = 0.005\n",
    "epochs = 200"
   ]
  },
  {
   "cell_type": "code",
   "execution_count": 42,
   "id": "149a3727",
   "metadata": {},
   "outputs": [
    {
     "name": "stdout",
     "output_type": "stream",
     "text": [
      "Epoch 10/200, Loss: 2.8726\n",
      "Epoch 20/200, Loss: 1.4022\n",
      "Epoch 30/200, Loss: 0.8699\n",
      "Epoch 40/200, Loss: 0.8300\n",
      "Epoch 50/200, Loss: 0.6375\n",
      "Epoch 60/200, Loss: 0.4989\n",
      "Epoch 70/200, Loss: 0.4386\n",
      "Epoch 80/200, Loss: 0.3435\n",
      "Epoch 90/200, Loss: 0.3695\n",
      "Epoch 100/200, Loss: 0.3682\n",
      "Epoch 110/200, Loss: 0.2091\n",
      "Epoch 120/200, Loss: 0.3631\n",
      "Epoch 130/200, Loss: 0.2448\n",
      "Epoch 140/200, Loss: 0.2812\n",
      "Epoch 150/200, Loss: 0.3172\n",
      "Epoch 160/200, Loss: 0.2860\n",
      "Epoch 170/200, Loss: 0.2985\n",
      "Epoch 180/200, Loss: 0.2194\n",
      "Epoch 190/200, Loss: 0.2666\n",
      "Epoch 200/200, Loss: 0.1727\n",
      "Training complete.\n"
     ]
    }
   ],
   "source": [
    "def softmax(z):\n",
    "    exp_z = np.exp(z - np.max(z, axis=1, keepdims=True))\n",
    "    return exp_z / exp_z.sum(axis=1, keepdims=True)\n",
    "\n",
    "def predict(X, weights, biases):\n",
    "    linear_output = np.dot(X, weights) + biases\n",
    "    probabilities = softmax(linear_output)\n",
    "    return np.argmax(probabilities, axis=1)\n",
    "\n",
    "\n",
    "# Training loop\n",
    "epoch_lst = []\n",
    "loss_lst = []\n",
    "acc_test_lst = []\n",
    "acc_train_lst = []\n",
    "for epoch in range(epochs):\n",
    "    # Forward pass\n",
    "    linear_output = np.dot(X_train, weights) + biases\n",
    "    output = softmax(linear_output)\n",
    "    \n",
    "    # Compute the error\n",
    "    error = y_train_one_hot - output\n",
    "    \n",
    "    # Weight and bias updates\n",
    "    weights += learning_rate * np.dot(X_train.T, error)\n",
    "    biases += learning_rate * error.sum(axis=0)\n",
    "    \n",
    "    # Compute the loss (cross-entropy)\n",
    "    loss = -np.mean(np.sum(y_train_one_hot * np.log(output + 1e-9), axis=1))\n",
    "    \n",
    "    # Print the loss every epoch\n",
    "    test_predictions = predict(X_test, weights, biases)\n",
    "    train_predictions = predict(X_train, weights, biases)\n",
    "    accuracy_test = (test_predictions == y_test).sum() / y_test.shape[0]\n",
    "    accuracy_train = (train_predictions == y_train).sum() / y_train.shape[0]\n",
    "    \n",
    "    epoch_lst.append(epoch)\n",
    "    loss_lst.append(loss)\n",
    "    acc_test_lst.append(accuracy_test)\n",
    "    acc_train_lst.append(accuracy_train)\n",
    "    if (epoch + 1) % 10 == 0:\n",
    "        print(f'Epoch {epoch+1}/{epochs}, Loss: {loss:.4f}')\n",
    "\n",
    "print(\"Training complete.\")"
   ]
  },
  {
   "cell_type": "code",
   "execution_count": 43,
   "id": "24cc9178",
   "metadata": {},
   "outputs": [
    {
     "data": {
      "text/plain": [
       "Text(0.5, 0, 'epoch')"
      ]
     },
     "execution_count": 43,
     "metadata": {},
     "output_type": "execute_result"
    },
    {
     "data": {
      "image/png": "[encoded data removed]",
      "text/plain": [
       "<Figure size 432x288 with 1 Axes>"
      ]
     },
     "metadata": {
      "needs_background": "light"
     },
     "output_type": "display_data"
    }
   ],
   "source": [
    "plt.plot(epoch_lst,loss_lst)\n",
    "plt.ylabel('Loss')\n",
    "plt.xlabel('epoch')"
   ]
  },
  {
   "cell_type": "code",
   "execution_count": 44,
   "id": "baa1517f",
   "metadata": {},
   "outputs": [
    {
     "data": {
      "text/plain": [
       "Text(0.5, 0, 'epoch')"
      ]
     },
     "execution_count": 44,
     "metadata": {},
     "output_type": "execute_result"
    },
    {
     "data": {
      "image/png": "[encoded data removed]",
      "text/plain": [
       "<Figure size 432x288 with 1 Axes>"
      ]
     },
     "metadata": {
      "needs_background": "light"
     },
     "output_type": "display_data"
    }
   ],
   "source": [
    "plt.plot(epoch_lst,acc_test_lst,acc_train_lst)\n",
    "plt.ylabel('Accuracy')\n",
    "plt.xlabel('epoch')"
   ]
  },
  {
   "cell_type": "code",
   "execution_count": 45,
   "id": "7435adec",
   "metadata": {},
   "outputs": [
    {
     "name": "stdout",
     "output_type": "stream",
     "text": [
      "Overall Accuracy Macro-Averaged: 0.800\n",
      "Overall Precision Macro-Averaged: 0.787\n",
      "Overall Specificity Macro-Averaged: 0.996\n",
      "Overall f1 Macro-Averaged: 0.772\n",
      "Overall Sensitivity (Recall) Macro-Averaged: 0.800\n"
     ]
    }
   ],
   "source": [
    "y_pred = test_predictions\n",
    "cm = confusion_matrix(y_test, y_pred, labels=range(num_classes))\n",
    "sensitivity = np.zeros(num_classes)\n",
    "specificity = np.zeros(num_classes)\n",
    "precision = np.zeros(num_classes)\n",
    "f1_score = np.zeros(num_classes)\n",
    "\n",
    "for i in range(num_classes):\n",
    "    TP = cm[i, i]  # True Positives for class i\n",
    "    FP = cm[:, i].sum() - TP  # False Positives for class i\n",
    "    FN = cm[i, :].sum() - TP  # False Negatives for class i\n",
    "    TN = cm.sum() - (FP + FN + TP)  # True Negatives for class i\n",
    "\n",
    "    sensitivity[i] = TP / (TP + FN) if (TP + FN) != 0 else 0\n",
    "    specificity[i] = TN / (TN + FP) if (TN + FP) != 0 else 0\n",
    "    precision[i] = TP / (TP + FP) if (TP + FP) != 0 else 0\n",
    "    f1_score[i] = 2 * precision[i] * sensitivity[i] / (precision[i] + sensitivity[i]) if (precision[i] + sensitivity[i]) != 0 else 0\n",
    "    \n",
    "\n",
    "\n",
    "overall_sensitivity_macro = np.mean(sensitivity)\n",
    "overall_specificity_macro = np.mean(specificity)\n",
    "overall_precision_macro = np.mean(precision)\n",
    "overall_f1_macro = np.mean(f1_score) \n",
    "\n",
    "# Print results\n",
    "print(f\"Overall Accuracy Macro-Averaged: {accuracy_test:.3f}\")\n",
    "print(f\"Overall Precision Macro-Averaged: {overall_precision_macro:.3f}\")\n",
    "print(f\"Overall Specificity Macro-Averaged: {overall_specificity_macro:.3f}\")\n",
    "print(f\"Overall f1 Macro-Averaged: {overall_f1_macro:.3f}\")\n",
    "print(f\"Overall Sensitivity (Recall) Macro-Averaged: {overall_sensitivity_macro:.3f}\")\n",
    "\n",
    "\n"
   ]
  },
  {
   "cell_type": "code",
   "execution_count": 137,
   "id": "27e9e311",
   "metadata": {},
   "outputs": [
    {
     "name": "stdout",
     "output_type": "stream",
     "text": [
      "Confusion Matrix:\n",
      "[[7 0 0 0 0 0 0 0 0 0 0 0 0 0 0 0 0]\n",
      " [0 3 0 0 0 0 0 0 0 0 0 0 0 0 0 0 0]\n",
      " [0 1 6 0 0 0 0 0 0 0 0 0 0 0 0 0 0]\n",
      " [0 0 0 1 0 0 0 1 0 0 0 0 0 0 0 0 0]\n",
      " [0 0 0 0 3 0 0 0 0 0 0 0 0 0 0 0 0]\n",
      " [0 0 0 0 0 8 0 0 0 0 0 0 0 0 0 0 0]\n",
      " [0 0 0 0 0 0 4 0 0 0 0 0 0 0 0 0 0]\n",
      " [0 0 0 0 0 0 0 6 0 0 0 0 0 0 0 0 0]\n",
      " [0 0 0 0 1 0 0 0 5 2 0 0 0 0 0 0 0]\n",
      " [0 0 0 0 0 0 0 0 0 1 0 0 0 0 0 0 0]\n",
      " [0 0 0 0 0 0 0 0 2 0 5 0 1 0 0 0 0]\n",
      " [0 0 0 0 0 0 0 1 0 0 0 4 0 0 0 0 0]\n",
      " [0 0 0 0 0 0 0 0 0 0 0 0 4 0 0 0 0]\n",
      " [0 0 0 0 0 0 0 0 0 1 0 0 0 4 0 0 0]\n",
      " [0 0 0 0 0 0 0 0 0 0 0 0 0 0 4 0 0]\n",
      " [0 0 0 0 0 0 0 0 0 0 0 0 0 0 0 2 0]\n",
      " [0 0 0 0 0 0 0 0 0 0 0 0 0 0 0 0 5]]\n"
     ]
    },
    {
     "data": {
      "image/png": "[encoded data removed]",
      "text/plain": [
       "<Figure size 1440x1080 with 2 Axes>"
      ]
     },
     "metadata": {
      "needs_background": "light"
     },
     "output_type": "display_data"
    }
   ],
   "source": [
    "# Plot the confusion matrix\n",
    "# Confusion Matrix\n",
    "y_pred = test_predictions\n",
    "cm = confusion_matrix(y_test, y_pred)\n",
    "cm_percentage = cm.astype('float') / cm.sum(axis=1)[:, np.newaxis] \n",
    "print(\"Confusion Matrix:\")\n",
    "print(cm)\n",
    "\n",
    "plt.figure(figsize=(20, 15))\n",
    "\n",
    "sns.heatmap(cm_percentage, annot=False, fmt='.1f', cmap='Blues', xticklabels=[i for i in range(0,50)], yticklabels=[i for i in range(0,50)])\n",
    "plt.xlabel('Predicted')\n",
    "plt.ylabel('True')\n",
    "plt.title('Confusion Matrix')\n",
    "plt.show()"
   ]
  },
  {
   "cell_type": "code",
   "execution_count": 541,
   "id": "3838112c",
   "metadata": {},
   "outputs": [
    {
     "name": "stdout",
     "output_type": "stream",
     "text": [
      "              precision    recall  f1-score   support\n",
      "\n",
      "           0       0.00      0.00      0.00         2\n",
      "           1       0.60      1.00      0.75         3\n",
      "           2       1.00      0.86      0.92         7\n",
      "           3       0.62      1.00      0.77         5\n",
      "           4       0.50      1.00      0.67         5\n",
      "           5       1.00      0.20      0.33         5\n",
      "           6       1.00      0.50      0.67         4\n",
      "           7       0.67      0.80      0.73         5\n",
      "           8       0.86      1.00      0.92         6\n",
      "           9       1.00      1.00      1.00         4\n",
      "          10       1.00      1.00      1.00         5\n",
      "          11       1.00      0.83      0.91         6\n",
      "          12       0.67      0.75      0.71         8\n",
      "          13       1.00      0.62      0.77         8\n",
      "          14       0.50      0.40      0.44         5\n",
      "          15       0.55      0.86      0.67         7\n",
      "          16       0.67      1.00      0.80         2\n",
      "          17       0.80      0.50      0.62         8\n",
      "          18       0.60      1.00      0.75         3\n",
      "          19       1.00      0.50      0.67         4\n",
      "          20       0.67      0.67      0.67         3\n",
      "          21       1.00      1.00      1.00         4\n",
      "          22       1.00      1.00      1.00         6\n",
      "          23       0.75      1.00      0.86         3\n",
      "          24       0.50      0.75      0.60         4\n",
      "          25       0.83      1.00      0.91         5\n",
      "          26       1.00      0.50      0.67         6\n",
      "          27       1.00      1.00      1.00         4\n",
      "          28       1.00      0.50      0.67         6\n",
      "          29       0.33      0.33      0.33         3\n",
      "          30       0.80      0.67      0.73         6\n",
      "          31       0.67      0.50      0.57         4\n",
      "          32       0.20      0.25      0.22         4\n",
      "          33       0.50      1.00      0.67         2\n",
      "          34       1.00      0.67      0.80         6\n",
      "          35       0.67      0.40      0.50         5\n",
      "          36       0.86      1.00      0.92         6\n",
      "          37       0.67      0.50      0.57         8\n",
      "          38       0.44      1.00      0.62         4\n",
      "          39       0.80      0.80      0.80         5\n",
      "          40       1.00      1.00      1.00         3\n",
      "          41       1.00      0.90      0.95        10\n",
      "          42       0.80      1.00      0.89         4\n",
      "          43       0.40      0.67      0.50         3\n",
      "          44       0.67      1.00      0.80         4\n",
      "          45       1.00      0.67      0.80         3\n",
      "          46       0.71      1.00      0.83         5\n",
      "          47       1.00      0.50      0.67         4\n",
      "          48       1.00      0.67      0.80         3\n",
      "          49       0.67      0.40      0.50         5\n",
      "\n",
      "    accuracy                           0.74       240\n",
      "   macro avg       0.76      0.74      0.72       240\n",
      "weighted avg       0.79      0.74      0.73       240\n",
      "\n"
     ]
    },
    {
     "name": "stderr",
     "output_type": "stream",
     "text": [
      "C:\\Users\\2357638D\\.conda\\envs\\pytorch\\lib\\site-packages\\sklearn\\metrics\\_classification.py:1248: UndefinedMetricWarning: Precision and F-score are ill-defined and being set to 0.0 in labels with no predicted samples. Use `zero_division` parameter to control this behavior.\n",
      "  _warn_prf(average, modifier, msg_start, len(result))\n",
      "C:\\Users\\2357638D\\.conda\\envs\\pytorch\\lib\\site-packages\\sklearn\\metrics\\_classification.py:1248: UndefinedMetricWarning: Precision and F-score are ill-defined and being set to 0.0 in labels with no predicted samples. Use `zero_division` parameter to control this behavior.\n",
      "  _warn_prf(average, modifier, msg_start, len(result))\n",
      "C:\\Users\\2357638D\\.conda\\envs\\pytorch\\lib\\site-packages\\sklearn\\metrics\\_classification.py:1248: UndefinedMetricWarning: Precision and F-score are ill-defined and being set to 0.0 in labels with no predicted samples. Use `zero_division` parameter to control this behavior.\n",
      "  _warn_prf(average, modifier, msg_start, len(result))\n"
     ]
    }
   ],
   "source": [
    "y_pred = test_predictions\n",
    "report = classification_report(y_test, y_pred)\n",
    "print(report)"
   ]
  },
  {
   "cell_type": "code",
   "execution_count": 491,
   "id": "27c78c17",
   "metadata": {},
   "outputs": [
    {
     "name": "stdout",
     "output_type": "stream",
     "text": [
      "0.8458333333333333\n",
      "0.9708333333333333\n"
     ]
    }
   ],
   "source": [
    "print(max(acc_test_lst))\n",
    "print(max(acc_train_lst))"
   ]
  },
  {
   "cell_type": "code",
   "execution_count": 478,
   "id": "94a81736",
   "metadata": {},
   "outputs": [],
   "source": [
    "file_path = 'cm'+str(sub)+'.mat'\n",
    "data = {'y_pred': test_predictions,'y_test': y_test } \n",
    "savemat(file_path, data)"
   ]
  },
  {
   "cell_type": "code",
   "execution_count": null,
   "id": "05259e20",
   "metadata": {},
   "outputs": [],
   "source": []
  }
 ],
 "metadata": {
  "kernelspec": {
   "display_name": "Python [conda env:.conda-pytorch] *",
   "language": "python",
   "name": "conda-env-.conda-pytorch-py"
  },
  "language_info": {
   "codemirror_mode": {
    "name": "ipython",
    "version": 3
   },
   "file_extension": ".py",
   "mimetype": "text/x-python",
   "name": "python",
   "nbconvert_exporter": "python",
   "pygments_lexer": "ipython3",
   "version": "3.6.13"
  }
 },
 "nbformat": 4,
 "nbformat_minor": 5
}
